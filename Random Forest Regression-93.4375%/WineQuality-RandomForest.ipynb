{
  "cells": [
    {
      "metadata": {
        "_uuid": "fe852a63e65763d9f609bf98f37678cb1be53886"
      },
      "cell_type": "markdown",
      "source": "***Welcome !!***\n\n1. The Probelm Is solved using Radom Forest Regression with 93.43% accuracy.\n2. The code is pretty intutive and easy to follow.\n\n"
    },
    {
      "metadata": {
        "_uuid": "8f2839f25d086af736a60e9eeb907d3b93b6e0e5",
        "_cell_guid": "b1076dfc-b9ad-4769-8c92-a6c4dae69d19",
        "trusted": true
      },
      "cell_type": "markdown",
      "source": "**Importing Necessary Packages**"
    },
    {
      "metadata": {
        "trusted": true,
        "_uuid": "d452625d26c2509694ceeea7050eb031f2a3fe62"
      },
      "cell_type": "code",
      "source": "import numpy as np\nimport pandas as pd\nimport matplotlib.pyplot as plt\nfrom sklearn.preprocessing import LabelEncoder  \nfrom sklearn.preprocessing import StandardScaler\nfrom sklearn.cross_validation import train_test_split\nfrom sklearn.ensemble import RandomForestRegressor\nfrom sklearn.metrics import accuracy_score",
      "execution_count": null,
      "outputs": []
    },
    {
      "metadata": {
        "_uuid": "1012b1a75a88261bbd63853e0019ecde4044b1e0"
      },
      "cell_type": "markdown",
      "source": "**Importing the dataset**"
    },
    {
      "metadata": {
        "_cell_guid": "79c7e3d0-c299-4dcb-8224-4455121ee9b0",
        "_uuid": "d629ff2d2480ee46fbb7e2d37f6b5fab8052498a",
        "trusted": true
      },
      "cell_type": "code",
      "source": "# Importing the dataset\nwine = pd.read_csv('winequality-red.csv')\n",
      "execution_count": null,
      "outputs": []
    },
    {
      "metadata": {
        "_uuid": "a873d9cefa920d1bcb58bc144ad152e6a7e9ec7a"
      },
      "cell_type": "markdown",
      "source": "**Viewing the data set**"
    },
    {
      "metadata": {
        "trusted": true,
        "_uuid": "320f181545053dc79d96629c8bb1f668e39dedd4"
      },
      "cell_type": "code",
      "source": "wine.head(10)",
      "execution_count": null,
      "outputs": []
    },
    {
      "metadata": {
        "_uuid": "93919bcc00f78b49c5a3b089ab37a1ac5205e485"
      },
      "cell_type": "markdown",
      "source": "**As given in the problem statement, quality above or equal to the rating of 7 is said to be Good Wine.\nSo, Let's make a classification between the good and the bad wine.**"
    },
    {
      "metadata": {
        "trusted": true,
        "_uuid": "e18a8cca190887105d5803a1e30878d4a2df0d60"
      },
      "cell_type": "code",
      "source": "for i in range(len(wine)):\n    if wine.iloc[i,11]>=7:\n        wine.iloc[i,11]='good'\n    else:\n        wine.iloc[i,11]='bad'",
      "execution_count": null,
      "outputs": []
    },
    {
      "metadata": {
        "trusted": true,
        "_uuid": "b7861f847a4a5682da1c7c7b179d11e626aaa963"
      },
      "cell_type": "code",
      "source": "wine.head(10)",
      "execution_count": null,
      "outputs": []
    },
    {
      "metadata": {
        "_uuid": "59b3d242746d5fd756906ebd1f0d12912ed1a426"
      },
      "cell_type": "markdown",
      "source": "**Now let's label encode them as 1 for good and 0 for bad.**"
    },
    {
      "metadata": {
        "trusted": true,
        "_uuid": "1f99a5eb30cbf091f4b86527c91a2e2fcc163fce"
      },
      "cell_type": "code",
      "source": "labelencdoer=LabelEncoder()\nwine['quality']=labelencdoer.fit_transform(wine['quality'])\nwine.head(10)",
      "execution_count": null,
      "outputs": []
    },
    {
      "metadata": {
        "_uuid": "430a63f087bc954f48e98bdc7cc43c4a706f11e5"
      },
      "cell_type": "markdown",
      "source": "**Split the dataset into dependent and independent variables . Scale the X value and split it into test and training set.**"
    },
    {
      "metadata": {
        "trusted": true,
        "_uuid": "68120cb7383a0483816b46aac76de08be8769b8e"
      },
      "cell_type": "code",
      "source": "X = wine.iloc[:, :-1].values\ny = wine.iloc[:, 11].values\n\n#scaling the Xvalue\nsc=StandardScaler()\nX=sc.fit_transform(X[:,:])\n\n#Splitting into train and test set\nX_train, X_test, y_train, y_test = train_test_split(X, y, test_size = 0.2, random_state = 0)\n",
      "execution_count": null,
      "outputs": []
    },
    {
      "metadata": {
        "_uuid": "b986971af0b05d1e6abb6802075960dc53743dc8"
      },
      "cell_type": "markdown",
      "source": "**Fit the Training set into the RandomForestRegressor module. Predict the final value using test set.**"
    },
    {
      "metadata": {
        "trusted": true,
        "_uuid": "f0f27049fc23f21da89f46b7c6921123db70a4ce"
      },
      "cell_type": "code",
      "source": "#n_estimators represents nos of trees to be used in the model\nrfr=RandomForestRegressor(n_estimators=40,random_state=0)\nrfr.fit(X_train,y_train)\n\n#Final Prediction\ny_pred=np.matrix.round(rfr.predict(X_test))\n",
      "execution_count": null,
      "outputs": []
    },
    {
      "metadata": {
        "_uuid": "55c5058555bf33dc89b8cd3ad74d58f3b3a35c89"
      },
      "cell_type": "markdown",
      "source": "**Calculate the Accuracy Score !**"
    },
    {
      "metadata": {
        "trusted": true,
        "_uuid": "82fcc007b6678e4499faef9db3205beef35ac21b"
      },
      "cell_type": "code",
      "source": "acc=accuracy_score(y_test, y_pred)\nprint(\"accuracy: \",acc*100,'%' )",
      "execution_count": null,
      "outputs": []
    },
    {
      "metadata": {
        "_uuid": "b46c576ecbe98c15bbf36e1d3e664eddfd990280"
      },
      "cell_type": "markdown",
      "source": "**Thank You\nPlease upvote if you find this code useful!**"
    }
  ],
  "metadata": {
    "kernelspec": {
      "display_name": "Python 3",
      "language": "python",
      "name": "python3"
    },
    "language_info": {
      "name": "python",
      "version": "3.6.6",
      "mimetype": "text/x-python",
      "codemirror_mode": {
        "name": "ipython",
        "version": 3
      },
      "pygments_lexer": "ipython3",
      "nbconvert_exporter": "python",
      "file_extension": ".py"
    }
  },
  "nbformat": 4,
  "nbformat_minor": 1
}